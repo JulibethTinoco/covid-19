{
  "nbformat": 4,
  "nbformat_minor": 0,
  "metadata": {
    "colab": {
      "name": "covid19_forecastingLSTM.ipynb",
      "provenance": [],
      "collapsed_sections": []
    },
    "kernelspec": {
      "name": "python3",
      "display_name": "Python 3"
    }
  },
  "cells": [
    {
      "cell_type": "markdown",
      "metadata": {
        "id": "ElKXEvAxX_R7",
        "colab_type": "text"
      },
      "source": [
        "### **COVID-19**"
      ]
    },
    {
      "cell_type": "markdown",
      "metadata": {
        "id": "T5UdMd-hYinu",
        "colab_type": "text"
      },
      "source": [
        "***Second version***"
      ]
    },
    {
      "cell_type": "markdown",
      "metadata": {
        "id": "RY3LvdhuYOfr",
        "colab_type": "text"
      },
      "source": [
        "**Objective** : using univariate LSTM to predict the number of coronavirus cases in Colombia the following day  with the determination that the health system is the demand that will open.\n"
      ]
    },
    {
      "cell_type": "code",
      "metadata": {
        "id": "StfWBZeUC05E",
        "colab_type": "code",
        "colab": {}
      },
      "source": [
        "#Importing package\n",
        "#!pip install tensorflow==1.14.0"
      ],
      "execution_count": 0,
      "outputs": []
    },
    {
      "cell_type": "code",
      "metadata": {
        "id": "cMrvz5jGYgvv",
        "colab_type": "code",
        "colab": {}
      },
      "source": [
        "#Importing libraries\n",
        "import pandas as pd\n",
        "import numpy as np\n",
        "from pandas import datetime\n",
        "import matplotlib.pyplot as plt\n",
        "import os\n",
        "from statsmodels.tsa.arima_model import ARIMA\n",
        "from statsmodels.tsa.statespace.sarimax import SARIMAX\n",
        "from sklearn.preprocessing import LabelEncoder  \n",
        "from sklearn.preprocessing import MinMaxScaler\n",
        "from statsmodels.graphics.tsaplots import plot_acf, plot_pacf\n",
        "import statsmodels.api as sm\n",
        "import math\n",
        "from sklearn.metrics import mean_squared_error\n",
        "from keras.models import Sequential\n",
        "from keras.layers import Dense\n",
        "from keras.layers import LSTM\n"
      ],
      "execution_count": 0,
      "outputs": []
    },
    {
      "cell_type": "markdown",
      "metadata": {
        "id": "bPNSFStqeoJD",
        "colab_type": "text"
      },
      "source": [
        "\n",
        "\n",
        "* **Data exploration**\n",
        "\n",
        "\n",
        "\n"
      ]
    },
    {
      "cell_type": "code",
      "metadata": {
        "id": "WfBu5Kzlcubs",
        "colab_type": "code",
        "colab": {
          "base_uri": "https://localhost:8080/",
          "height": 143
        },
        "outputId": "2ce185fe-6db6-4941-c196-0c22766fc4a4"
      },
      "source": [
        "#Load data from\n",
        "url = 'https://raw.githubusercontent.com/JulibethTinoco/covid-19/master/casos_covid19_colombia4112020.csv'\n",
        "df = pd.read_csv(url)\n",
        "df.head(3)"
      ],
      "execution_count": 15,
      "outputs": [
        {
          "output_type": "execute_result",
          "data": {
            "text/html": [
              "<div>\n",
              "<style scoped>\n",
              "    .dataframe tbody tr th:only-of-type {\n",
              "        vertical-align: middle;\n",
              "    }\n",
              "\n",
              "    .dataframe tbody tr th {\n",
              "        vertical-align: top;\n",
              "    }\n",
              "\n",
              "    .dataframe thead th {\n",
              "        text-align: right;\n",
              "    }\n",
              "</style>\n",
              "<table border=\"1\" class=\"dataframe\">\n",
              "  <thead>\n",
              "    <tr style=\"text-align: right;\">\n",
              "      <th></th>\n",
              "      <th>ID de caso</th>\n",
              "      <th>Fecha de diagnóstico</th>\n",
              "      <th>Ciudad de ubicación</th>\n",
              "      <th>Departamento o Distrito</th>\n",
              "      <th>Atención**</th>\n",
              "      <th>Edad</th>\n",
              "      <th>Sexo</th>\n",
              "      <th>Tipo*</th>\n",
              "      <th>País de procedencia</th>\n",
              "    </tr>\n",
              "  </thead>\n",
              "  <tbody>\n",
              "    <tr>\n",
              "      <th>0</th>\n",
              "      <td>1</td>\n",
              "      <td>06/03/2020</td>\n",
              "      <td>Bogota</td>\n",
              "      <td>Bogotá D.C.</td>\n",
              "      <td>Recuperado</td>\n",
              "      <td>19</td>\n",
              "      <td>F</td>\n",
              "      <td>Importado</td>\n",
              "      <td>Italia</td>\n",
              "    </tr>\n",
              "    <tr>\n",
              "      <th>1</th>\n",
              "      <td>2</td>\n",
              "      <td>09/03/2020</td>\n",
              "      <td>Buga</td>\n",
              "      <td>Valle del Cauca</td>\n",
              "      <td>Recuperado</td>\n",
              "      <td>34</td>\n",
              "      <td>M</td>\n",
              "      <td>Importado</td>\n",
              "      <td>España</td>\n",
              "    </tr>\n",
              "    <tr>\n",
              "      <th>2</th>\n",
              "      <td>3</td>\n",
              "      <td>09/03/2020</td>\n",
              "      <td>Medellin</td>\n",
              "      <td>Antioquia</td>\n",
              "      <td>Recuperado</td>\n",
              "      <td>50</td>\n",
              "      <td>F</td>\n",
              "      <td>Importado</td>\n",
              "      <td>España</td>\n",
              "    </tr>\n",
              "  </tbody>\n",
              "</table>\n",
              "</div>"
            ],
            "text/plain": [
              "   ID de caso Fecha de diagnóstico  ...      Tipo* País de procedencia\n",
              "0           1           06/03/2020  ...  Importado              Italia\n",
              "1           2           09/03/2020  ...  Importado              España\n",
              "2           3           09/03/2020  ...  Importado              España\n",
              "\n",
              "[3 rows x 9 columns]"
            ]
          },
          "metadata": {
            "tags": []
          },
          "execution_count": 15
        }
      ]
    },
    {
      "cell_type": "code",
      "metadata": {
        "id": "0mtqBLPxcWl_",
        "colab_type": "code",
        "outputId": "8478f072-1385-4d3a-bdc3-3cf01dd98ee4",
        "colab": {
          "base_uri": "https://localhost:8080/",
          "height": 111
        }
      },
      "source": [
        "print(\"Dimension of the dataframe is:\",len(df))\n",
        "df.columns"
      ],
      "execution_count": 16,
      "outputs": [
        {
          "output_type": "stream",
          "text": [
            "Dimension of the dataframe is: 2473\n"
          ],
          "name": "stdout"
        },
        {
          "output_type": "execute_result",
          "data": {
            "text/plain": [
              "Index(['ID de caso', 'Fecha de diagnóstico', 'Ciudad de ubicación',\n",
              "       'Departamento o Distrito', 'Atención**', 'Edad', 'Sexo', 'Tipo*',\n",
              "       'País de procedencia'],\n",
              "      dtype='object')"
            ]
          },
          "metadata": {
            "tags": []
          },
          "execution_count": 16
        }
      ]
    },
    {
      "cell_type": "code",
      "metadata": {
        "id": "6rilH3Gbc0yu",
        "colab_type": "code",
        "outputId": "fbec2cb6-d81f-4934-a9fb-7eb2db955a36",
        "colab": {
          "base_uri": "https://localhost:8080/",
          "height": 143
        }
      },
      "source": [
        "#Renaming the variables\n",
        "df.columns = ['casos','fecha', 'ciudad_ubicacion', 'dpto','atencion', 'edad', 'sexo', 'tipo','pais_procedencia']\n",
        "df.head(3)"
      ],
      "execution_count": 17,
      "outputs": [
        {
          "output_type": "execute_result",
          "data": {
            "text/html": [
              "<div>\n",
              "<style scoped>\n",
              "    .dataframe tbody tr th:only-of-type {\n",
              "        vertical-align: middle;\n",
              "    }\n",
              "\n",
              "    .dataframe tbody tr th {\n",
              "        vertical-align: top;\n",
              "    }\n",
              "\n",
              "    .dataframe thead th {\n",
              "        text-align: right;\n",
              "    }\n",
              "</style>\n",
              "<table border=\"1\" class=\"dataframe\">\n",
              "  <thead>\n",
              "    <tr style=\"text-align: right;\">\n",
              "      <th></th>\n",
              "      <th>casos</th>\n",
              "      <th>fecha</th>\n",
              "      <th>ciudad_ubicacion</th>\n",
              "      <th>dpto</th>\n",
              "      <th>atencion</th>\n",
              "      <th>edad</th>\n",
              "      <th>sexo</th>\n",
              "      <th>tipo</th>\n",
              "      <th>pais_procedencia</th>\n",
              "    </tr>\n",
              "  </thead>\n",
              "  <tbody>\n",
              "    <tr>\n",
              "      <th>0</th>\n",
              "      <td>1</td>\n",
              "      <td>06/03/2020</td>\n",
              "      <td>Bogota</td>\n",
              "      <td>Bogotá D.C.</td>\n",
              "      <td>Recuperado</td>\n",
              "      <td>19</td>\n",
              "      <td>F</td>\n",
              "      <td>Importado</td>\n",
              "      <td>Italia</td>\n",
              "    </tr>\n",
              "    <tr>\n",
              "      <th>1</th>\n",
              "      <td>2</td>\n",
              "      <td>09/03/2020</td>\n",
              "      <td>Buga</td>\n",
              "      <td>Valle del Cauca</td>\n",
              "      <td>Recuperado</td>\n",
              "      <td>34</td>\n",
              "      <td>M</td>\n",
              "      <td>Importado</td>\n",
              "      <td>España</td>\n",
              "    </tr>\n",
              "    <tr>\n",
              "      <th>2</th>\n",
              "      <td>3</td>\n",
              "      <td>09/03/2020</td>\n",
              "      <td>Medellin</td>\n",
              "      <td>Antioquia</td>\n",
              "      <td>Recuperado</td>\n",
              "      <td>50</td>\n",
              "      <td>F</td>\n",
              "      <td>Importado</td>\n",
              "      <td>España</td>\n",
              "    </tr>\n",
              "  </tbody>\n",
              "</table>\n",
              "</div>"
            ],
            "text/plain": [
              "   casos       fecha ciudad_ubicacion  ... sexo       tipo  pais_procedencia\n",
              "0      1  06/03/2020           Bogota  ...    F  Importado            Italia\n",
              "1      2  09/03/2020             Buga  ...    M  Importado            España\n",
              "2      3  09/03/2020         Medellin  ...    F  Importado            España\n",
              "\n",
              "[3 rows x 9 columns]"
            ]
          },
          "metadata": {
            "tags": []
          },
          "execution_count": 17
        }
      ]
    },
    {
      "cell_type": "markdown",
      "metadata": {
        "id": "dao0NupwfY7p",
        "colab_type": "text"
      },
      "source": [
        "\n",
        "\n",
        "*  **Data preparation**\n",
        "\n",
        "\n"
      ]
    },
    {
      "cell_type": "code",
      "metadata": {
        "id": "yafGeIaQdbT2",
        "colab_type": "code",
        "outputId": "b46323e9-3b9d-4ce5-ea8b-ddf47f1ce575",
        "colab": {
          "base_uri": "https://localhost:8080/",
          "height": 175
        }
      },
      "source": [
        "#Set the index time\n",
        "df.fecha=pd.to_datetime(df.fecha, format='%d/%m/%Y') \n",
        "df.set_index('fecha',inplace=True)\n",
        "df.head(3) "
      ],
      "execution_count": 18,
      "outputs": [
        {
          "output_type": "execute_result",
          "data": {
            "text/html": [
              "<div>\n",
              "<style scoped>\n",
              "    .dataframe tbody tr th:only-of-type {\n",
              "        vertical-align: middle;\n",
              "    }\n",
              "\n",
              "    .dataframe tbody tr th {\n",
              "        vertical-align: top;\n",
              "    }\n",
              "\n",
              "    .dataframe thead th {\n",
              "        text-align: right;\n",
              "    }\n",
              "</style>\n",
              "<table border=\"1\" class=\"dataframe\">\n",
              "  <thead>\n",
              "    <tr style=\"text-align: right;\">\n",
              "      <th></th>\n",
              "      <th>casos</th>\n",
              "      <th>ciudad_ubicacion</th>\n",
              "      <th>dpto</th>\n",
              "      <th>atencion</th>\n",
              "      <th>edad</th>\n",
              "      <th>sexo</th>\n",
              "      <th>tipo</th>\n",
              "      <th>pais_procedencia</th>\n",
              "    </tr>\n",
              "    <tr>\n",
              "      <th>fecha</th>\n",
              "      <th></th>\n",
              "      <th></th>\n",
              "      <th></th>\n",
              "      <th></th>\n",
              "      <th></th>\n",
              "      <th></th>\n",
              "      <th></th>\n",
              "      <th></th>\n",
              "    </tr>\n",
              "  </thead>\n",
              "  <tbody>\n",
              "    <tr>\n",
              "      <th>2020-03-06</th>\n",
              "      <td>1</td>\n",
              "      <td>Bogota</td>\n",
              "      <td>Bogotá D.C.</td>\n",
              "      <td>Recuperado</td>\n",
              "      <td>19</td>\n",
              "      <td>F</td>\n",
              "      <td>Importado</td>\n",
              "      <td>Italia</td>\n",
              "    </tr>\n",
              "    <tr>\n",
              "      <th>2020-03-09</th>\n",
              "      <td>2</td>\n",
              "      <td>Buga</td>\n",
              "      <td>Valle del Cauca</td>\n",
              "      <td>Recuperado</td>\n",
              "      <td>34</td>\n",
              "      <td>M</td>\n",
              "      <td>Importado</td>\n",
              "      <td>España</td>\n",
              "    </tr>\n",
              "    <tr>\n",
              "      <th>2020-03-09</th>\n",
              "      <td>3</td>\n",
              "      <td>Medellin</td>\n",
              "      <td>Antioquia</td>\n",
              "      <td>Recuperado</td>\n",
              "      <td>50</td>\n",
              "      <td>F</td>\n",
              "      <td>Importado</td>\n",
              "      <td>España</td>\n",
              "    </tr>\n",
              "  </tbody>\n",
              "</table>\n",
              "</div>"
            ],
            "text/plain": [
              "            casos ciudad_ubicacion  ...       tipo pais_procedencia\n",
              "fecha                               ...                            \n",
              "2020-03-06      1           Bogota  ...  Importado           Italia\n",
              "2020-03-09      2             Buga  ...  Importado           España\n",
              "2020-03-09      3         Medellin  ...  Importado           España\n",
              "\n",
              "[3 rows x 8 columns]"
            ]
          },
          "metadata": {
            "tags": []
          },
          "execution_count": 18
        }
      ]
    },
    {
      "cell_type": "code",
      "metadata": {
        "id": "3rebn9Jkdngn",
        "colab_type": "code",
        "outputId": "c79c499a-2d56-4df8-e11e-7c21a8afcb54",
        "colab": {
          "base_uri": "https://localhost:8080/",
          "height": 334
        }
      },
      "source": [
        "#Tranforming data into time series\n",
        "ts = df.groupby(\"fecha\")[\"casos\"].count()\n",
        "ts.plot(figsize=(15,5))\n",
        "data = pd.DataFrame(ts)"
      ],
      "execution_count": 19,
      "outputs": [
        {
          "output_type": "display_data",
          "data": {
            "image/png": "[encoded data removed]",
            "text/plain": [
              "<Figure size 1080x360 with 1 Axes>"
            ]
          },
          "metadata": {
            "tags": [],
            "needs_background": "light"
          }
        }
      ]
    },
    {
      "cell_type": "code",
      "metadata": {
        "id": "aysHUlISeNMe",
        "colab_type": "code",
        "outputId": "2a4db05a-31fa-4c84-c712-06c43087d5fd",
        "colab": {
          "base_uri": "https://localhost:8080/",
          "height": 300
        }
      },
      "source": [
        "data.describe()"
      ],
      "execution_count": 20,
      "outputs": [
        {
          "output_type": "execute_result",
          "data": {
            "text/html": [
              "<div>\n",
              "<style scoped>\n",
              "    .dataframe tbody tr th:only-of-type {\n",
              "        vertical-align: middle;\n",
              "    }\n",
              "\n",
              "    .dataframe tbody tr th {\n",
              "        vertical-align: top;\n",
              "    }\n",
              "\n",
              "    .dataframe thead th {\n",
              "        text-align: right;\n",
              "    }\n",
              "</style>\n",
              "<table border=\"1\" class=\"dataframe\">\n",
              "  <thead>\n",
              "    <tr style=\"text-align: right;\">\n",
              "      <th></th>\n",
              "      <th>casos</th>\n",
              "    </tr>\n",
              "  </thead>\n",
              "  <tbody>\n",
              "    <tr>\n",
              "      <th>count</th>\n",
              "      <td>33.000000</td>\n",
              "    </tr>\n",
              "    <tr>\n",
              "      <th>mean</th>\n",
              "      <td>74.939394</td>\n",
              "    </tr>\n",
              "    <tr>\n",
              "      <th>std</th>\n",
              "      <td>72.018201</td>\n",
              "    </tr>\n",
              "    <tr>\n",
              "      <th>min</th>\n",
              "      <td>1.000000</td>\n",
              "    </tr>\n",
              "    <tr>\n",
              "      <th>25%</th>\n",
              "      <td>18.000000</td>\n",
              "    </tr>\n",
              "    <tr>\n",
              "      <th>50%</th>\n",
              "      <td>62.000000</td>\n",
              "    </tr>\n",
              "    <tr>\n",
              "      <th>75%</th>\n",
              "      <td>106.000000</td>\n",
              "    </tr>\n",
              "    <tr>\n",
              "      <th>max</th>\n",
              "      <td>274.000000</td>\n",
              "    </tr>\n",
              "  </tbody>\n",
              "</table>\n",
              "</div>"
            ],
            "text/plain": [
              "            casos\n",
              "count   33.000000\n",
              "mean    74.939394\n",
              "std     72.018201\n",
              "min      1.000000\n",
              "25%     18.000000\n",
              "50%     62.000000\n",
              "75%    106.000000\n",
              "max    274.000000"
            ]
          },
          "metadata": {
            "tags": []
          },
          "execution_count": 20
        }
      ]
    },
    {
      "cell_type": "code",
      "metadata": {
        "id": "Qy-sRO93f0GX",
        "colab_type": "code",
        "outputId": "180eb3a1-f09a-4696-9243-853d73a93b59",
        "colab": {
          "base_uri": "https://localhost:8080/",
          "height": 316
        }
      },
      "source": [
        "#split the data(90%-10%)just for plotting\n",
        "test_period =int(round(len(data)*0.9,0))   \n",
        "train = data.iloc[:test_period,]\n",
        "test = data.iloc[test_period-1:,]\n",
        "ax=train.plot(figsize=(15,8), fontsize=10)\n",
        "test.plot(ax=ax,figsize=(15,5), fontsize=5)\n",
        "plt.show()"
      ],
      "execution_count": 21,
      "outputs": [
        {
          "output_type": "display_data",
          "data": {
            "image/png": "[encoded data removed]",
            "text/plain": [
              "<Figure size 1080x360 with 1 Axes>"
            ]
          },
          "metadata": {
            "tags": [],
            "needs_background": "light"
          }
        }
      ]
    },
    {
      "cell_type": "code",
      "metadata": {
        "id": "-75mlR3klIqB",
        "colab_type": "code",
        "colab": {}
      },
      "source": [
        "# Split a univariate sequence into samples\n",
        "def series_to_supervised(data, n_in=1, n_out=1, dropnan=True):\n",
        "    n_vars = 1\n",
        "    dat = pd.DataFrame(data)\n",
        "    cols, names = list(), list()\n",
        "    # input sequence (t-n, ... t-1)\n",
        "    for i in range(n_in, 0, -1):\n",
        "        cols.append(dat.shift(i))\n",
        "        names += [('var%d(t-%d)' % (j+1, i)) for j in range(n_vars)]\n",
        "    # forecast sequence (t, t+1, ... t+n)\n",
        "    for i in range(0, n_out):\n",
        "        cols.append(dat.shift(-i))\n",
        "        if i == 0:\n",
        "            names += [('var%d(t)' % (j+1)) for j in range(n_vars)]\n",
        "        else:\n",
        "            names += [('var%d(t+%d)' % (j+1, i)) for j in range(n_vars)]\n",
        "    # put it all together\n",
        "    agg = pd.concat(cols, axis=1)\n",
        "    agg.columns = names\n",
        "    # drop rows with NaN values\n",
        "    if dropnan:\n",
        "        agg.dropna(inplace=True)\n",
        "    return agg"
      ],
      "execution_count": 0,
      "outputs": []
    },
    {
      "cell_type": "code",
      "metadata": {
        "id": "fXwc4i9YlYy5",
        "colab_type": "code",
        "outputId": "0a0aa190-3d19-4183-abee-ba55fd9c22f7",
        "colab": {
          "base_uri": "https://localhost:8080/",
          "height": 175
        }
      },
      "source": [
        "data_samples = series_to_supervised(train,3,1)\n",
        "data_samples.tail(3)"
      ],
      "execution_count": 23,
      "outputs": [
        {
          "output_type": "execute_result",
          "data": {
            "text/html": [
              "<div>\n",
              "<style scoped>\n",
              "    .dataframe tbody tr th:only-of-type {\n",
              "        vertical-align: middle;\n",
              "    }\n",
              "\n",
              "    .dataframe tbody tr th {\n",
              "        vertical-align: top;\n",
              "    }\n",
              "\n",
              "    .dataframe thead th {\n",
              "        text-align: right;\n",
              "    }\n",
              "</style>\n",
              "<table border=\"1\" class=\"dataframe\">\n",
              "  <thead>\n",
              "    <tr style=\"text-align: right;\">\n",
              "      <th></th>\n",
              "      <th>var1(t-3)</th>\n",
              "      <th>var1(t-2)</th>\n",
              "      <th>var1(t-1)</th>\n",
              "      <th>var1(t)</th>\n",
              "    </tr>\n",
              "    <tr>\n",
              "      <th>fecha</th>\n",
              "      <th></th>\n",
              "      <th></th>\n",
              "      <th></th>\n",
              "      <th></th>\n",
              "    </tr>\n",
              "  </thead>\n",
              "  <tbody>\n",
              "    <tr>\n",
              "      <th>2020-04-05</th>\n",
              "      <td>96.0</td>\n",
              "      <td>106.0</td>\n",
              "      <td>139.0</td>\n",
              "      <td>79</td>\n",
              "    </tr>\n",
              "    <tr>\n",
              "      <th>2020-04-06</th>\n",
              "      <td>106.0</td>\n",
              "      <td>139.0</td>\n",
              "      <td>79.0</td>\n",
              "      <td>94</td>\n",
              "    </tr>\n",
              "    <tr>\n",
              "      <th>2020-04-07</th>\n",
              "      <td>139.0</td>\n",
              "      <td>79.0</td>\n",
              "      <td>94.0</td>\n",
              "      <td>201</td>\n",
              "    </tr>\n",
              "  </tbody>\n",
              "</table>\n",
              "</div>"
            ],
            "text/plain": [
              "            var1(t-3)  var1(t-2)  var1(t-1)  var1(t)\n",
              "fecha                                               \n",
              "2020-04-05       96.0      106.0      139.0       79\n",
              "2020-04-06      106.0      139.0       79.0       94\n",
              "2020-04-07      139.0       79.0       94.0      201"
            ]
          },
          "metadata": {
            "tags": []
          },
          "execution_count": 23
        }
      ]
    },
    {
      "cell_type": "markdown",
      "metadata": {
        "id": "ckMkpO6JoO-D",
        "colab_type": "text"
      },
      "source": [
        "**Normalization data**"
      ]
    },
    {
      "cell_type": "code",
      "metadata": {
        "id": "0-PU9xhvoKgK",
        "colab_type": "code",
        "outputId": "2c1ccebd-0f52-49d7-ef3a-c56156b9307b",
        "colab": {
          "base_uri": "https://localhost:8080/",
          "height": 522
        }
      },
      "source": [
        "scaler = MinMaxScaler(feature_range=(0, 1))\n",
        "data_norm = scaler.fit_transform(data_samples)\n",
        "data_norm"
      ],
      "execution_count": 24,
      "outputs": [
        {
          "output_type": "execute_result",
          "data": {
            "text/plain": [
              "array([[0.        , 0.        , 0.01923077, 0.00505051],\n",
              "       [0.00632911, 0.02547771, 0.00641026, 0.        ],\n",
              "       [0.03164557, 0.01273885, 0.        , 0.02525253],\n",
              "       [0.01898734, 0.00636943, 0.03205128, 0.09090909],\n",
              "       [0.01265823, 0.03821656, 0.11538462, 0.04545455],\n",
              "       [0.0443038 , 0.12101911, 0.05769231, 0.07575758],\n",
              "       [0.12658228, 0.06369427, 0.09615385, 0.12121212],\n",
              "       [0.06962025, 0.10191083, 0.15384615, 0.11616162],\n",
              "       [0.10759494, 0.15923567, 0.1474359 , 0.22222222],\n",
              "       [0.16455696, 0.15286624, 0.28205128, 0.16161616],\n",
              "       [0.15822785, 0.2866242 , 0.20512821, 0.13636364],\n",
              "       [0.29113924, 0.21019108, 0.17307692, 0.31818182],\n",
              "       [0.21518987, 0.17834395, 0.40384615, 0.55555556],\n",
              "       [0.1835443 , 0.40764331, 0.70512821, 0.2979798 ],\n",
              "       [0.41139241, 0.70700637, 0.37820513, 0.03535354],\n",
              "       [0.70886076, 0.38216561, 0.04487179, 0.22727273],\n",
              "       [0.38607595, 0.05095541, 0.28846154, 0.33333333],\n",
              "       [0.05696203, 0.29299363, 0.42307692, 0.45959596],\n",
              "       [0.29746835, 0.42675159, 0.58333333, 0.46969697],\n",
              "       [0.43037975, 0.58598726, 0.59615385, 0.53030303],\n",
              "       [0.58860759, 0.59872611, 0.67307692, 0.78787879],\n",
              "       [0.60126582, 0.67515924, 1.        , 0.46969697],\n",
              "       [0.67721519, 1.        , 0.59615385, 0.52020202],\n",
              "       [1.        , 0.59872611, 0.66025641, 0.68686869],\n",
              "       [0.60126582, 0.66242038, 0.87179487, 0.38383838],\n",
              "       [0.66455696, 0.87261146, 0.48717949, 0.45959596],\n",
              "       [0.87341772, 0.49044586, 0.58333333, 1.        ]])"
            ]
          },
          "metadata": {
            "tags": []
          },
          "execution_count": 24
        }
      ]
    },
    {
      "cell_type": "code",
      "metadata": {
        "id": "kBfE5XUBm00_",
        "colab_type": "code",
        "colab": {}
      },
      "source": [
        "#Now split the data 90%-10%\n",
        "train_data_norm = data_norm[:int(round(len(data_norm)*0.9,0)), :]\n",
        "test_data_norm = data_norm[int(round(len(data_norm)*0.9,0)):len(data_norm), :]"
      ],
      "execution_count": 0,
      "outputs": []
    },
    {
      "cell_type": "code",
      "metadata": {
        "id": "6mmf48qjpYr2",
        "colab_type": "code",
        "colab": {}
      },
      "source": [
        "#split the train and test set into X,Y\n",
        "train_x, train_y = train_data_norm[:, :-1], train_data_norm[:, -1]\n",
        "test_x, test_y = test_data_norm[:, :-1], test_data_norm[:, -1]\n"
      ],
      "execution_count": 0,
      "outputs": []
    },
    {
      "cell_type": "code",
      "metadata": {
        "id": "2Az64AQfzBTm",
        "colab_type": "code",
        "outputId": "26baf382-5951-4333-bda2-82c732bbc159",
        "colab": {
          "base_uri": "https://localhost:8080/",
          "height": 36
        }
      },
      "source": [
        "#reshape input to be 3D [samples, timesteps, features]\n",
        "train_x = train_x.reshape((train_x.shape[0], 1, train_x.shape[1]))\n",
        "test_x = test_x.reshape((test_x.shape[0], 1, test_x.shape[1]))\n",
        "print(train_x.shape, train_y.shape, test_x.shape, test_y.shape)"
      ],
      "execution_count": 27,
      "outputs": [
        {
          "output_type": "stream",
          "text": [
            "(24, 1, 3) (24,) (3, 1, 3) (3,)\n"
          ],
          "name": "stdout"
        }
      ]
    },
    {
      "cell_type": "markdown",
      "metadata": {
        "id": "FgSAu1WN1QxQ",
        "colab_type": "text"
      },
      "source": [
        "**Modeling**\n"
      ]
    },
    {
      "cell_type": "code",
      "metadata": {
        "id": "GgT1MxIP1SyS",
        "colab_type": "code",
        "outputId": "f122e664-d5a6-4ed8-dcca-7eb6a5c4817e",
        "colab": {
          "base_uri": "https://localhost:8080/",
          "height": 1000
        }
      },
      "source": [
        "# design network\n",
        "model = Sequential()\n",
        "model.add(LSTM(100, activation='relu',input_shape=(train_x.shape[1], train_x.shape[2])))\n",
        "model.add(Dense(1))\n",
        "model.compile(loss='mean_squared_error', optimizer='adam')\n",
        "# fit network\n",
        "history = model.fit(train_x, train_y, epochs=60, validation_data=(test_x, test_y), shuffle=False)\n",
        "# plot history\n",
        "plt.plot(history.history['loss'])\n",
        "plt.plot(history.history['val_loss'])\n",
        "plt.title('model train vs validation loss')\n",
        "plt.ylabel('loss')\n",
        "plt.xlabel('epoch')\n",
        "plt.legend(['train', 'validation'], loc='upper right')\n",
        "plt.show()"
      ],
      "execution_count": 28,
      "outputs": [
        {
          "output_type": "stream",
          "text": [
            "WARNING:tensorflow:From /usr/local/lib/python3.6/dist-packages/keras/backend/tensorflow_backend.py:422: The name tf.global_variables is deprecated. Please use tf.compat.v1.global_variables instead.\n",
            "\n",
            "Train on 24 samples, validate on 3 samples\n",
            "Epoch 1/60\n",
            "24/24 [==============================] - 0s 15ms/step - loss: 0.1380 - val_loss: 0.4746\n",
            "Epoch 2/60\n",
            "24/24 [==============================] - 0s 313us/step - loss: 0.1357 - val_loss: 0.4676\n",
            "Epoch 3/60\n",
            "24/24 [==============================] - 0s 356us/step - loss: 0.1332 - val_loss: 0.4601\n",
            "Epoch 4/60\n",
            "24/24 [==============================] - 0s 288us/step - loss: 0.1305 - val_loss: 0.4526\n",
            "Epoch 5/60\n",
            "24/24 [==============================] - 0s 329us/step - loss: 0.1278 - val_loss: 0.4451\n",
            "Epoch 6/60\n",
            "24/24 [==============================] - 0s 419us/step - loss: 0.1251 - val_loss: 0.4376\n",
            "Epoch 7/60\n",
            "24/24 [==============================] - 0s 296us/step - loss: 0.1224 - val_loss: 0.4301\n",
            "Epoch 8/60\n",
            "24/24 [==============================] - 0s 315us/step - loss: 0.1196 - val_loss: 0.4227\n",
            "Epoch 9/60\n",
            "24/24 [==============================] - 0s 253us/step - loss: 0.1169 - val_loss: 0.4154\n",
            "Epoch 10/60\n",
            "24/24 [==============================] - 0s 207us/step - loss: 0.1143 - val_loss: 0.4081\n",
            "Epoch 11/60\n",
            "24/24 [==============================] - 0s 295us/step - loss: 0.1117 - val_loss: 0.4007\n",
            "Epoch 12/60\n",
            "24/24 [==============================] - 0s 298us/step - loss: 0.1091 - val_loss: 0.3935\n",
            "Epoch 13/60\n",
            "24/24 [==============================] - 0s 305us/step - loss: 0.1066 - val_loss: 0.3863\n",
            "Epoch 14/60\n",
            "24/24 [==============================] - 0s 274us/step - loss: 0.1041 - val_loss: 0.3792\n",
            "Epoch 15/60\n",
            "24/24 [==============================] - 0s 218us/step - loss: 0.1016 - val_loss: 0.3722\n",
            "Epoch 16/60\n",
            "24/24 [==============================] - 0s 293us/step - loss: 0.0992 - val_loss: 0.3652\n",
            "Epoch 17/60\n",
            "24/24 [==============================] - 0s 211us/step - loss: 0.0968 - val_loss: 0.3583\n",
            "Epoch 18/60\n",
            "24/24 [==============================] - 0s 231us/step - loss: 0.0944 - val_loss: 0.3515\n",
            "Epoch 19/60\n",
            "24/24 [==============================] - 0s 287us/step - loss: 0.0921 - val_loss: 0.3447\n",
            "Epoch 20/60\n",
            "24/24 [==============================] - 0s 199us/step - loss: 0.0898 - val_loss: 0.3380\n",
            "Epoch 21/60\n",
            "24/24 [==============================] - 0s 224us/step - loss: 0.0875 - val_loss: 0.3314\n",
            "Epoch 22/60\n",
            "24/24 [==============================] - 0s 201us/step - loss: 0.0852 - val_loss: 0.3246\n",
            "Epoch 23/60\n",
            "24/24 [==============================] - 0s 185us/step - loss: 0.0830 - val_loss: 0.3180\n",
            "Epoch 24/60\n",
            "24/24 [==============================] - 0s 277us/step - loss: 0.0808 - val_loss: 0.3114\n",
            "Epoch 25/60\n",
            "24/24 [==============================] - 0s 260us/step - loss: 0.0786 - val_loss: 0.3046\n",
            "Epoch 26/60\n",
            "24/24 [==============================] - 0s 184us/step - loss: 0.0764 - val_loss: 0.2979\n",
            "Epoch 27/60\n",
            "24/24 [==============================] - 0s 196us/step - loss: 0.0743 - val_loss: 0.2913\n",
            "Epoch 28/60\n",
            "24/24 [==============================] - 0s 203us/step - loss: 0.0722 - val_loss: 0.2848\n",
            "Epoch 29/60\n",
            "24/24 [==============================] - 0s 222us/step - loss: 0.0701 - val_loss: 0.2784\n",
            "Epoch 30/60\n",
            "24/24 [==============================] - 0s 228us/step - loss: 0.0681 - val_loss: 0.2720\n",
            "Epoch 31/60\n",
            "24/24 [==============================] - 0s 239us/step - loss: 0.0660 - val_loss: 0.2656\n",
            "Epoch 32/60\n",
            "24/24 [==============================] - 0s 254us/step - loss: 0.0640 - val_loss: 0.2593\n",
            "Epoch 33/60\n",
            "24/24 [==============================] - 0s 245us/step - loss: 0.0621 - val_loss: 0.2531\n",
            "Epoch 34/60\n",
            "24/24 [==============================] - 0s 203us/step - loss: 0.0602 - val_loss: 0.2468\n",
            "Epoch 35/60\n",
            "24/24 [==============================] - 0s 206us/step - loss: 0.0583 - val_loss: 0.2406\n",
            "Epoch 36/60\n",
            "24/24 [==============================] - 0s 198us/step - loss: 0.0564 - val_loss: 0.2345\n",
            "Epoch 37/60\n",
            "24/24 [==============================] - 0s 235us/step - loss: 0.0546 - val_loss: 0.2284\n",
            "Epoch 38/60\n",
            "24/24 [==============================] - 0s 233us/step - loss: 0.0528 - val_loss: 0.2224\n",
            "Epoch 39/60\n",
            "24/24 [==============================] - 0s 274us/step - loss: 0.0511 - val_loss: 0.2166\n",
            "Epoch 40/60\n",
            "24/24 [==============================] - 0s 281us/step - loss: 0.0494 - val_loss: 0.2108\n",
            "Epoch 41/60\n",
            "24/24 [==============================] - 0s 307us/step - loss: 0.0478 - val_loss: 0.2051\n",
            "Epoch 42/60\n",
            "24/24 [==============================] - 0s 294us/step - loss: 0.0462 - val_loss: 0.1996\n",
            "Epoch 43/60\n",
            "24/24 [==============================] - 0s 365us/step - loss: 0.0446 - val_loss: 0.1941\n",
            "Epoch 44/60\n",
            "24/24 [==============================] - 0s 329us/step - loss: 0.0432 - val_loss: 0.1889\n",
            "Epoch 45/60\n",
            "24/24 [==============================] - 0s 336us/step - loss: 0.0417 - val_loss: 0.1837\n",
            "Epoch 46/60\n",
            "24/24 [==============================] - 0s 352us/step - loss: 0.0404 - val_loss: 0.1787\n",
            "Epoch 47/60\n",
            "24/24 [==============================] - 0s 356us/step - loss: 0.0391 - val_loss: 0.1738\n",
            "Epoch 48/60\n",
            "24/24 [==============================] - 0s 374us/step - loss: 0.0378 - val_loss: 0.1690\n",
            "Epoch 49/60\n",
            "24/24 [==============================] - 0s 313us/step - loss: 0.0366 - val_loss: 0.1644\n",
            "Epoch 50/60\n",
            "24/24 [==============================] - 0s 351us/step - loss: 0.0354 - val_loss: 0.1599\n",
            "Epoch 51/60\n",
            "24/24 [==============================] - 0s 400us/step - loss: 0.0343 - val_loss: 0.1556\n",
            "Epoch 52/60\n",
            "24/24 [==============================] - 0s 348us/step - loss: 0.0333 - val_loss: 0.1515\n",
            "Epoch 53/60\n",
            "24/24 [==============================] - 0s 265us/step - loss: 0.0323 - val_loss: 0.1474\n",
            "Epoch 54/60\n",
            "24/24 [==============================] - 0s 283us/step - loss: 0.0314 - val_loss: 0.1436\n",
            "Epoch 55/60\n",
            "24/24 [==============================] - 0s 388us/step - loss: 0.0305 - val_loss: 0.1399\n",
            "Epoch 56/60\n",
            "24/24 [==============================] - 0s 582us/step - loss: 0.0297 - val_loss: 0.1364\n",
            "Epoch 57/60\n",
            "24/24 [==============================] - 0s 349us/step - loss: 0.0290 - val_loss: 0.1330\n",
            "Epoch 58/60\n",
            "24/24 [==============================] - 0s 268us/step - loss: 0.0283 - val_loss: 0.1298\n",
            "Epoch 59/60\n",
            "24/24 [==============================] - 0s 551us/step - loss: 0.0276 - val_loss: 0.1268\n",
            "Epoch 60/60\n",
            "24/24 [==============================] - 0s 455us/step - loss: 0.0270 - val_loss: 0.1239\n"
          ],
          "name": "stdout"
        },
        {
          "output_type": "display_data",
          "data": {
            "image/png": "[encoded data removed]",
            "text/plain": [
              "<Figure size 432x288 with 1 Axes>"
            ]
          },
          "metadata": {
            "tags": [],
            "needs_background": "light"
          }
        }
      ]
    },
    {
      "cell_type": "markdown",
      "metadata": {
        "id": "R-YCYN3JgIZo",
        "colab_type": "text"
      },
      "source": [
        "We have increased the number of epoch and the total number of nodes and the underftting remains.\n",
        "\n",
        "Therefore, the model is underfit because performance on the training set is better than the validation set and performance has leveled off. So, we need more samples to fit this model."
      ]
    },
    {
      "cell_type": "code",
      "metadata": {
        "id": "e657Czjb5C5r",
        "colab_type": "code",
        "outputId": "188d65c1-bfb1-4114-9399-660a57e23a88",
        "colab": {
          "base_uri": "https://localhost:8080/",
          "height": 36
        }
      },
      "source": [
        "# make a prediction\n",
        "yhat = model.predict(test_x)\n",
        "test_x_r = test_x.reshape((test_x.shape[0],3))\n",
        "\n",
        "# invert scaling for forecast\n",
        "inv_yhat = np.concatenate((yhat, test_x_r[:, :]), axis=1)\n",
        "inv_yhat = np.round(scaler.inverse_transform(inv_yhat),0)\n",
        "inv_yhat = inv_yhat[:,3]\n",
        "inv_yhat\n"
      ],
      "execution_count": 38,
      "outputs": [
        {
          "output_type": "execute_result",
          "data": {
            "text/plain": [
              "array([261., 220., 230.])"
            ]
          },
          "metadata": {
            "tags": []
          },
          "execution_count": 38
        }
      ]
    },
    {
      "cell_type": "code",
      "metadata": {
        "id": "iwIzM6nO5imw",
        "colab_type": "code",
        "outputId": "acf25a31-7903-419d-bb24-591649b7c5aa",
        "colab": {
          "base_uri": "https://localhost:8080/",
          "height": 36
        }
      },
      "source": [
        "# invert scaling for actual\n",
        "test_y_r = test_y.reshape((len(test_y), 1))\n",
        "inv_y = np.concatenate((test_y_r, test_x_r[:,:]), axis=1)\n",
        "inv_y = np.round(scaler.inverse_transform(inv_y),0)\n",
        "inv_y = inv_y[:,3]\n",
        "inv_y"
      ],
      "execution_count": 39,
      "outputs": [
        {
          "output_type": "execute_result",
          "data": {
            "text/plain": [
              "array([261., 220., 230.])"
            ]
          },
          "metadata": {
            "tags": []
          },
          "execution_count": 39
        }
      ]
    },
    {
      "cell_type": "code",
      "metadata": {
        "id": "B0NJ6EWUIoD0",
        "colab_type": "code",
        "outputId": "a482a747-6476-489c-baf1-eda6cc0a8648",
        "colab": {
          "base_uri": "https://localhost:8080/",
          "height": 36
        }
      },
      "source": [
        "# calculate RMSE\n",
        "rmse = np.sqrt(mean_squared_error(inv_y, inv_yhat))\n",
        "print('Test RMSE: %.3f' % rmse)"
      ],
      "execution_count": 40,
      "outputs": [
        {
          "output_type": "stream",
          "text": [
            "Test RMSE: 0.000\n"
          ],
          "name": "stdout"
        }
      ]
    },
    {
      "cell_type": "code",
      "metadata": {
        "id": "IhPOdtIWJhHZ",
        "colab_type": "code",
        "outputId": "8213ed73-5144-44ca-d3b0-7edfd4fefbc7",
        "colab": {
          "base_uri": "https://localhost:8080/",
          "height": 265
        }
      },
      "source": [
        "#plotting forecast vs real\n",
        "aa=[x for x in range(2)]\n",
        "plt.plot(aa, inv_y[:2], marker='.', label=\"actual\")\n",
        "plt.plot(aa, inv_yhat[:2], 'r', label=\"prediction\")\n",
        "plt.ylabel('Total casos', size=15)\n",
        "plt.xlabel('', size=15)\n",
        "plt.legend(fontsize=15)\n",
        "plt.show()"
      ],
      "execution_count": 41,
      "outputs": [
        {
          "output_type": "display_data",
          "data": {
            "image/png": "[encoded data removed]",
            "text/plain": [
              "<Figure size 432x288 with 1 Axes>"
            ]
          },
          "metadata": {
            "tags": [],
            "needs_background": "light"
          }
        }
      ]
    },
    {
      "cell_type": "code",
      "metadata": {
        "id": "ERCCoK3lFuKB",
        "colab_type": "code",
        "colab": {
          "base_uri": "https://localhost:8080/",
          "height": 54
        },
        "outputId": "91657a66-a5fd-43eb-ee74-53bcc2d0971d"
      },
      "source": [
        "from datetime import datetime\n",
        "from datetime import timedelta\n",
        "last=pd.DataFrame(data.index)\n",
        "last=last.tail(1)\n",
        "NextDay_Date = last + timedelta(days=1)\n",
        "print(NextDay_Date.to_string(index=False))"
      ],
      "execution_count": 42,
      "outputs": [
        {
          "output_type": "stream",
          "text": [
            "     fecha\n",
            "2020-04-11\n"
          ],
          "name": "stdout"
        }
      ]
    },
    {
      "cell_type": "code",
      "metadata": {
        "id": "ruxdN-rbvwlM",
        "colab_type": "code",
        "outputId": "fdd97899-afd7-4f71-dc33-154568a464cd",
        "colab": {
          "base_uri": "https://localhost:8080/",
          "height": 54
        }
      },
      "source": [
        "#Prediction\n",
        "x_input = np.array(data.tail(3))\n",
        "x_input_norm = scaler.fit_transform(x_input)\n",
        "x_input_norm = x_input_norm.reshape((1, 1, 3))\n",
        "prediction_norm= model.predict(x_input_norm, verbose=0)\n",
        "prediction = int(scaler.inverse_transform(prediction_norm))\n",
        "print(\"Predicción del total de casos contagiados:\",prediction,\"para la\",NextDay_Date.to_string(index=False))"
      ],
      "execution_count": 43,
      "outputs": [
        {
          "output_type": "stream",
          "text": [
            "Predicción del total de casos contagiados: 204 para la      fecha\n",
            "2020-04-11\n"
          ],
          "name": "stdout"
        }
      ]
    }
  ]
}