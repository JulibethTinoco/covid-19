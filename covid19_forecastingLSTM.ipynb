{
  "nbformat": 4,
  "nbformat_minor": 0,
  "metadata": {
    "colab": {
      "name": "covid19_forecastingLSTM.ipynb",
      "provenance": [],
      "collapsed_sections": []
    },
    "kernelspec": {
      "name": "python3",
      "display_name": "Python 3"
    }
  },
  "cells": [
    {
      "cell_type": "markdown",
      "metadata": {
        "id": "ElKXEvAxX_R7",
        "colab_type": "text"
      },
      "source": [
        "### **COVID-19**"
      ]
    },
    {
      "cell_type": "markdown",
      "metadata": {
        "id": "T5UdMd-hYinu",
        "colab_type": "text"
      },
      "source": [
        "***Second version***"
      ]
    },
    {
      "cell_type": "markdown",
      "metadata": {
        "id": "RY3LvdhuYOfr",
        "colab_type": "text"
      },
      "source": [
        "**Objective** : using univariate LSTM to predict the number of coronavirus cases in Colombia the following day  with the determination that the health system is the demand that will open.\n"
      ]
    },
    {
      "cell_type": "code",
      "metadata": {
        "id": "StfWBZeUC05E",
        "colab_type": "code",
        "colab": {}
      },
      "source": [
        "#Importing package\n",
        "#!pip install tensorflow==1.14.0"
      ],
      "execution_count": 0,
      "outputs": []
    },
    {
      "cell_type": "code",
      "metadata": {
        "id": "cMrvz5jGYgvv",
        "colab_type": "code",
        "colab": {}
      },
      "source": [
        "#Importing libraries\n",
        "import pandas as pd\n",
        "import numpy as np\n",
        "from pandas import datetime\n",
        "import matplotlib.pyplot as plt\n",
        "import os\n",
        "from statsmodels.tsa.arima_model import ARIMA\n",
        "from statsmodels.tsa.statespace.sarimax import SARIMAX\n",
        "from sklearn.preprocessing import LabelEncoder  \n",
        "from sklearn.preprocessing import MinMaxScaler\n",
        "from statsmodels.graphics.tsaplots import plot_acf, plot_pacf\n",
        "import statsmodels.api as sm\n",
        "import math\n",
        "from sklearn.metrics import mean_squared_error\n",
        "from keras.models import Sequential\n",
        "from keras.layers import Dense\n",
        "from keras.layers import LSTM\n"
      ],
      "execution_count": 0,
      "outputs": []
    },
    {
      "cell_type": "markdown",
      "metadata": {
        "id": "bPNSFStqeoJD",
        "colab_type": "text"
      },
      "source": [
        "\n",
        "\n",
        "* **Data exploration**\n",
        "\n",
        "\n",
        "\n"
      ]
    },
    {
      "cell_type": "code",
      "metadata": {
        "id": "7IhrFSjcZpmV",
        "colab_type": "code",
        "outputId": "9fbd78d7-c488-4604-83d8-7740a7448325",
        "colab": {
          "base_uri": "https://localhost:8080/",
          "height": 36
        }
      },
      "source": [
        "#API connection\n",
        "#!pip install requests\n",
        "import requests\n",
        "request = requests.get('https://www.datos.gov.co/resource/gt2j-8ykr.json')\n",
        "print(request.status_code)"
      ],
      "execution_count": 3,
      "outputs": [
        {
          "output_type": "stream",
          "text": [
            "200\n"
          ],
          "name": "stdout"
        }
      ]
    },
    {
      "cell_type": "code",
      "metadata": {
        "id": "nVF0j6VjZ9Q4",
        "colab_type": "code",
        "colab": {}
      },
      "source": [
        "#200 means everything  is OK! \n",
        "request_json  = request.json()"
      ],
      "execution_count": 0,
      "outputs": []
    },
    {
      "cell_type": "code",
      "metadata": {
        "id": "yhtKuTBXaElX",
        "colab_type": "code",
        "outputId": "65a917c2-01fd-483f-d3f4-ef088f00c3c0",
        "colab": {
          "base_uri": "https://localhost:8080/",
          "height": 201
        }
      },
      "source": [
        "#Normalize the data\n",
        "from pandas.io.json import json_normalize\n",
        "df= pd.DataFrame.from_dict(json_normalize(request_json), orient='columns')\n",
        "df.head(3)\n"
      ],
      "execution_count": 5,
      "outputs": [
        {
          "output_type": "stream",
          "text": [
            "/usr/local/lib/python3.6/dist-packages/ipykernel_launcher.py:2: FutureWarning: pandas.io.json.json_normalize is deprecated, use pandas.json_normalize instead\n",
            "  \n"
          ],
          "name": "stderr"
        },
        {
          "output_type": "execute_result",
          "data": {
            "text/html": [
              "<div>\n",
              "<style scoped>\n",
              "    .dataframe tbody tr th:only-of-type {\n",
              "        vertical-align: middle;\n",
              "    }\n",
              "\n",
              "    .dataframe tbody tr th {\n",
              "        vertical-align: top;\n",
              "    }\n",
              "\n",
              "    .dataframe thead th {\n",
              "        text-align: right;\n",
              "    }\n",
              "</style>\n",
              "<table border=\"1\" class=\"dataframe\">\n",
              "  <thead>\n",
              "    <tr style=\"text-align: right;\">\n",
              "      <th></th>\n",
              "      <th>id_de_caso</th>\n",
              "      <th>fecha_de_diagn_stico</th>\n",
              "      <th>ciudad_de_ubicaci_n</th>\n",
              "      <th>departamento</th>\n",
              "      <th>atenci_n</th>\n",
              "      <th>edad</th>\n",
              "      <th>sexo</th>\n",
              "      <th>tipo</th>\n",
              "      <th>pa_s_de_procedencia</th>\n",
              "    </tr>\n",
              "  </thead>\n",
              "  <tbody>\n",
              "    <tr>\n",
              "      <th>0</th>\n",
              "      <td>1</td>\n",
              "      <td>06/03/2020</td>\n",
              "      <td>Bogotá</td>\n",
              "      <td>Bogotá D.C.</td>\n",
              "      <td>Recuperado</td>\n",
              "      <td>19</td>\n",
              "      <td>F</td>\n",
              "      <td>Importado</td>\n",
              "      <td>Italia</td>\n",
              "    </tr>\n",
              "    <tr>\n",
              "      <th>1</th>\n",
              "      <td>2</td>\n",
              "      <td>09/03/2020</td>\n",
              "      <td>Buga</td>\n",
              "      <td>Valle del Cauca</td>\n",
              "      <td>Recuperado</td>\n",
              "      <td>34</td>\n",
              "      <td>M</td>\n",
              "      <td>Importado</td>\n",
              "      <td>España</td>\n",
              "    </tr>\n",
              "    <tr>\n",
              "      <th>2</th>\n",
              "      <td>3</td>\n",
              "      <td>09/03/2020</td>\n",
              "      <td>Medellín</td>\n",
              "      <td>Antioquia</td>\n",
              "      <td>Recuperado</td>\n",
              "      <td>50</td>\n",
              "      <td>F</td>\n",
              "      <td>Importado</td>\n",
              "      <td>España</td>\n",
              "    </tr>\n",
              "  </tbody>\n",
              "</table>\n",
              "</div>"
            ],
            "text/plain": [
              "  id_de_caso fecha_de_diagn_stico  ...       tipo pa_s_de_procedencia\n",
              "0          1           06/03/2020  ...  Importado              Italia\n",
              "1          2           09/03/2020  ...  Importado              España\n",
              "2          3           09/03/2020  ...  Importado              España\n",
              "\n",
              "[3 rows x 9 columns]"
            ]
          },
          "metadata": {
            "tags": []
          },
          "execution_count": 5
        }
      ]
    },
    {
      "cell_type": "code",
      "metadata": {
        "id": "0mtqBLPxcWl_",
        "colab_type": "code",
        "outputId": "240f1c33-36e0-4279-c8c2-fc367a7edefa",
        "colab": {
          "base_uri": "https://localhost:8080/",
          "height": 111
        }
      },
      "source": [
        "print(\"Dimension of the dataframe is:\",len(df))\n",
        "df.columns"
      ],
      "execution_count": 6,
      "outputs": [
        {
          "output_type": "stream",
          "text": [
            "Dimension of the dataframe is: 1000\n"
          ],
          "name": "stdout"
        },
        {
          "output_type": "execute_result",
          "data": {
            "text/plain": [
              "Index(['id_de_caso', 'fecha_de_diagn_stico', 'ciudad_de_ubicaci_n',\n",
              "       'departamento', 'atenci_n', 'edad', 'sexo', 'tipo',\n",
              "       'pa_s_de_procedencia'],\n",
              "      dtype='object')"
            ]
          },
          "metadata": {
            "tags": []
          },
          "execution_count": 6
        }
      ]
    },
    {
      "cell_type": "code",
      "metadata": {
        "id": "6rilH3Gbc0yu",
        "colab_type": "code",
        "outputId": "71cdc830-7647-423f-e9ff-9040674a13a3",
        "colab": {
          "base_uri": "https://localhost:8080/",
          "height": 143
        }
      },
      "source": [
        "#Renaming the variables\n",
        "df.columns = ['casos','fecha', 'ciudad_ubicacion', 'dpto','atencion', 'edad', 'sexo', 'tipo','pais_procedencia']\n",
        "df.head(3)"
      ],
      "execution_count": 7,
      "outputs": [
        {
          "output_type": "execute_result",
          "data": {
            "text/html": [
              "<div>\n",
              "<style scoped>\n",
              "    .dataframe tbody tr th:only-of-type {\n",
              "        vertical-align: middle;\n",
              "    }\n",
              "\n",
              "    .dataframe tbody tr th {\n",
              "        vertical-align: top;\n",
              "    }\n",
              "\n",
              "    .dataframe thead th {\n",
              "        text-align: right;\n",
              "    }\n",
              "</style>\n",
              "<table border=\"1\" class=\"dataframe\">\n",
              "  <thead>\n",
              "    <tr style=\"text-align: right;\">\n",
              "      <th></th>\n",
              "      <th>casos</th>\n",
              "      <th>fecha</th>\n",
              "      <th>ciudad_ubicacion</th>\n",
              "      <th>dpto</th>\n",
              "      <th>atencion</th>\n",
              "      <th>edad</th>\n",
              "      <th>sexo</th>\n",
              "      <th>tipo</th>\n",
              "      <th>pais_procedencia</th>\n",
              "    </tr>\n",
              "  </thead>\n",
              "  <tbody>\n",
              "    <tr>\n",
              "      <th>0</th>\n",
              "      <td>1</td>\n",
              "      <td>06/03/2020</td>\n",
              "      <td>Bogotá</td>\n",
              "      <td>Bogotá D.C.</td>\n",
              "      <td>Recuperado</td>\n",
              "      <td>19</td>\n",
              "      <td>F</td>\n",
              "      <td>Importado</td>\n",
              "      <td>Italia</td>\n",
              "    </tr>\n",
              "    <tr>\n",
              "      <th>1</th>\n",
              "      <td>2</td>\n",
              "      <td>09/03/2020</td>\n",
              "      <td>Buga</td>\n",
              "      <td>Valle del Cauca</td>\n",
              "      <td>Recuperado</td>\n",
              "      <td>34</td>\n",
              "      <td>M</td>\n",
              "      <td>Importado</td>\n",
              "      <td>España</td>\n",
              "    </tr>\n",
              "    <tr>\n",
              "      <th>2</th>\n",
              "      <td>3</td>\n",
              "      <td>09/03/2020</td>\n",
              "      <td>Medellín</td>\n",
              "      <td>Antioquia</td>\n",
              "      <td>Recuperado</td>\n",
              "      <td>50</td>\n",
              "      <td>F</td>\n",
              "      <td>Importado</td>\n",
              "      <td>España</td>\n",
              "    </tr>\n",
              "  </tbody>\n",
              "</table>\n",
              "</div>"
            ],
            "text/plain": [
              "  casos       fecha ciudad_ubicacion  ... sexo       tipo pais_procedencia\n",
              "0     1  06/03/2020           Bogotá  ...    F  Importado           Italia\n",
              "1     2  09/03/2020             Buga  ...    M  Importado           España\n",
              "2     3  09/03/2020         Medellín  ...    F  Importado           España\n",
              "\n",
              "[3 rows x 9 columns]"
            ]
          },
          "metadata": {
            "tags": []
          },
          "execution_count": 7
        }
      ]
    },
    {
      "cell_type": "markdown",
      "metadata": {
        "id": "dao0NupwfY7p",
        "colab_type": "text"
      },
      "source": [
        "\n",
        "\n",
        "*  **Data preparation**\n",
        "\n",
        "\n"
      ]
    },
    {
      "cell_type": "code",
      "metadata": {
        "id": "yafGeIaQdbT2",
        "colab_type": "code",
        "outputId": "aba98ab9-0693-45a5-9c8d-5795601b56ce",
        "colab": {
          "base_uri": "https://localhost:8080/",
          "height": 175
        }
      },
      "source": [
        "#Set the index time\n",
        "df.fecha=pd.to_datetime(df.fecha, format='%d/%m/%Y') \n",
        "df.set_index('fecha',inplace=True)\n",
        "df.head(3) "
      ],
      "execution_count": 8,
      "outputs": [
        {
          "output_type": "execute_result",
          "data": {
            "text/html": [
              "<div>\n",
              "<style scoped>\n",
              "    .dataframe tbody tr th:only-of-type {\n",
              "        vertical-align: middle;\n",
              "    }\n",
              "\n",
              "    .dataframe tbody tr th {\n",
              "        vertical-align: top;\n",
              "    }\n",
              "\n",
              "    .dataframe thead th {\n",
              "        text-align: right;\n",
              "    }\n",
              "</style>\n",
              "<table border=\"1\" class=\"dataframe\">\n",
              "  <thead>\n",
              "    <tr style=\"text-align: right;\">\n",
              "      <th></th>\n",
              "      <th>casos</th>\n",
              "      <th>ciudad_ubicacion</th>\n",
              "      <th>dpto</th>\n",
              "      <th>atencion</th>\n",
              "      <th>edad</th>\n",
              "      <th>sexo</th>\n",
              "      <th>tipo</th>\n",
              "      <th>pais_procedencia</th>\n",
              "    </tr>\n",
              "    <tr>\n",
              "      <th>fecha</th>\n",
              "      <th></th>\n",
              "      <th></th>\n",
              "      <th></th>\n",
              "      <th></th>\n",
              "      <th></th>\n",
              "      <th></th>\n",
              "      <th></th>\n",
              "      <th></th>\n",
              "    </tr>\n",
              "  </thead>\n",
              "  <tbody>\n",
              "    <tr>\n",
              "      <th>2020-03-06</th>\n",
              "      <td>1</td>\n",
              "      <td>Bogotá</td>\n",
              "      <td>Bogotá D.C.</td>\n",
              "      <td>Recuperado</td>\n",
              "      <td>19</td>\n",
              "      <td>F</td>\n",
              "      <td>Importado</td>\n",
              "      <td>Italia</td>\n",
              "    </tr>\n",
              "    <tr>\n",
              "      <th>2020-03-09</th>\n",
              "      <td>2</td>\n",
              "      <td>Buga</td>\n",
              "      <td>Valle del Cauca</td>\n",
              "      <td>Recuperado</td>\n",
              "      <td>34</td>\n",
              "      <td>M</td>\n",
              "      <td>Importado</td>\n",
              "      <td>España</td>\n",
              "    </tr>\n",
              "    <tr>\n",
              "      <th>2020-03-09</th>\n",
              "      <td>3</td>\n",
              "      <td>Medellín</td>\n",
              "      <td>Antioquia</td>\n",
              "      <td>Recuperado</td>\n",
              "      <td>50</td>\n",
              "      <td>F</td>\n",
              "      <td>Importado</td>\n",
              "      <td>España</td>\n",
              "    </tr>\n",
              "  </tbody>\n",
              "</table>\n",
              "</div>"
            ],
            "text/plain": [
              "           casos ciudad_ubicacion  ...       tipo pais_procedencia\n",
              "fecha                              ...                            \n",
              "2020-03-06     1           Bogotá  ...  Importado           Italia\n",
              "2020-03-09     2             Buga  ...  Importado           España\n",
              "2020-03-09     3         Medellín  ...  Importado           España\n",
              "\n",
              "[3 rows x 8 columns]"
            ]
          },
          "metadata": {
            "tags": []
          },
          "execution_count": 8
        }
      ]
    },
    {
      "cell_type": "code",
      "metadata": {
        "id": "3rebn9Jkdngn",
        "colab_type": "code",
        "outputId": "8b905e00-fcb4-4cbb-ae16-168d5fafa3de",
        "colab": {
          "base_uri": "https://localhost:8080/",
          "height": 334
        }
      },
      "source": [
        "#Tranforming data into time series\n",
        "ts = df.groupby(\"fecha\")[\"casos\"].count()\n",
        "ts.plot(figsize=(15,5))\n",
        "data = pd.DataFrame(ts)"
      ],
      "execution_count": 9,
      "outputs": [
        {
          "output_type": "display_data",
          "data": {
            "image/png": "[encoded data removed]",
            "text/plain": [
              "<Figure size 1080x360 with 1 Axes>"
            ]
          },
          "metadata": {
            "tags": []
          }
        }
      ]
    },
    {
      "cell_type": "code",
      "metadata": {
        "id": "aysHUlISeNMe",
        "colab_type": "code",
        "outputId": "f336382d-87a4-4940-d5c6-099ae41f2cab",
        "colab": {
          "base_uri": "https://localhost:8080/",
          "height": 300
        }
      },
      "source": [
        "data.describe()"
      ],
      "execution_count": 10,
      "outputs": [
        {
          "output_type": "execute_result",
          "data": {
            "text/html": [
              "<div>\n",
              "<style scoped>\n",
              "    .dataframe tbody tr th:only-of-type {\n",
              "        vertical-align: middle;\n",
              "    }\n",
              "\n",
              "    .dataframe tbody tr th {\n",
              "        vertical-align: top;\n",
              "    }\n",
              "\n",
              "    .dataframe thead th {\n",
              "        text-align: right;\n",
              "    }\n",
              "</style>\n",
              "<table border=\"1\" class=\"dataframe\">\n",
              "  <thead>\n",
              "    <tr style=\"text-align: right;\">\n",
              "      <th></th>\n",
              "      <th>casos</th>\n",
              "    </tr>\n",
              "  </thead>\n",
              "  <tbody>\n",
              "    <tr>\n",
              "      <th>count</th>\n",
              "      <td>24.000000</td>\n",
              "    </tr>\n",
              "    <tr>\n",
              "      <th>mean</th>\n",
              "      <td>41.666667</td>\n",
              "    </tr>\n",
              "    <tr>\n",
              "      <th>std</th>\n",
              "      <td>37.181887</td>\n",
              "    </tr>\n",
              "    <tr>\n",
              "      <th>min</th>\n",
              "      <td>1.000000</td>\n",
              "    </tr>\n",
              "    <tr>\n",
              "      <th>25%</th>\n",
              "      <td>9.500000</td>\n",
              "    </tr>\n",
              "    <tr>\n",
              "      <th>50%</th>\n",
              "      <td>28.500000</td>\n",
              "    </tr>\n",
              "    <tr>\n",
              "      <th>75%</th>\n",
              "      <td>66.750000</td>\n",
              "    </tr>\n",
              "    <tr>\n",
              "      <th>max</th>\n",
              "      <td>113.000000</td>\n",
              "    </tr>\n",
              "  </tbody>\n",
              "</table>\n",
              "</div>"
            ],
            "text/plain": [
              "            casos\n",
              "count   24.000000\n",
              "mean    41.666667\n",
              "std     37.181887\n",
              "min      1.000000\n",
              "25%      9.500000\n",
              "50%     28.500000\n",
              "75%     66.750000\n",
              "max    113.000000"
            ]
          },
          "metadata": {
            "tags": []
          },
          "execution_count": 10
        }
      ]
    },
    {
      "cell_type": "code",
      "metadata": {
        "id": "Qy-sRO93f0GX",
        "colab_type": "code",
        "outputId": "57ee0dbf-8c7f-4e27-eab3-98a259b76571",
        "colab": {
          "base_uri": "https://localhost:8080/",
          "height": 316
        }
      },
      "source": [
        "#split the data(90%-10%)just for plotting\n",
        "test_period =int(round(len(data)*0.9,0))   \n",
        "train = data.iloc[:test_period,]\n",
        "test = data.iloc[test_period-1:,]\n",
        "ax=train.plot(figsize=(15,8), fontsize=10)\n",
        "test.plot(ax=ax,figsize=(15,5), fontsize=5)\n",
        "plt.show()"
      ],
      "execution_count": 27,
      "outputs": [
        {
          "output_type": "display_data",
          "data": {
            "image/png": "[encoded data removed]",
            "text/plain": [
              "<Figure size 1080x360 with 1 Axes>"
            ]
          },
          "metadata": {
            "tags": []
          }
        }
      ]
    },
    {
      "cell_type": "code",
      "metadata": {
        "id": "-75mlR3klIqB",
        "colab_type": "code",
        "colab": {}
      },
      "source": [
        "# Split a univariate sequence into samples\n",
        "def series_to_supervised(data, n_in=1, n_out=1, dropnan=True):\n",
        "    n_vars = 1\n",
        "    dat = pd.DataFrame(data)\n",
        "    cols, names = list(), list()\n",
        "    # input sequence (t-n, ... t-1)\n",
        "    for i in range(n_in, 0, -1):\n",
        "        cols.append(dat.shift(i))\n",
        "        names += [('var%d(t-%d)' % (j+1, i)) for j in range(n_vars)]\n",
        "    # forecast sequence (t, t+1, ... t+n)\n",
        "    for i in range(0, n_out):\n",
        "        cols.append(dat.shift(-i))\n",
        "        if i == 0:\n",
        "            names += [('var%d(t)' % (j+1)) for j in range(n_vars)]\n",
        "        else:\n",
        "            names += [('var%d(t+%d)' % (j+1, i)) for j in range(n_vars)]\n",
        "    # put it all together\n",
        "    agg = pd.concat(cols, axis=1)\n",
        "    agg.columns = names\n",
        "    # drop rows with NaN values\n",
        "    if dropnan:\n",
        "        agg.dropna(inplace=True)\n",
        "    return agg"
      ],
      "execution_count": 0,
      "outputs": []
    },
    {
      "cell_type": "code",
      "metadata": {
        "id": "fXwc4i9YlYy5",
        "colab_type": "code",
        "outputId": "b184e8df-d0a3-4829-b3f8-013a090e07eb",
        "colab": {
          "base_uri": "https://localhost:8080/",
          "height": 175
        }
      },
      "source": [
        "data_samples = series_to_supervised(train,3,1)\n",
        "data_samples.tail(3)"
      ],
      "execution_count": 13,
      "outputs": [
        {
          "output_type": "execute_result",
          "data": {
            "text/html": [
              "<div>\n",
              "<style scoped>\n",
              "    .dataframe tbody tr th:only-of-type {\n",
              "        vertical-align: middle;\n",
              "    }\n",
              "\n",
              "    .dataframe tbody tr th {\n",
              "        vertical-align: top;\n",
              "    }\n",
              "\n",
              "    .dataframe thead th {\n",
              "        text-align: right;\n",
              "    }\n",
              "</style>\n",
              "<table border=\"1\" class=\"dataframe\">\n",
              "  <thead>\n",
              "    <tr style=\"text-align: right;\">\n",
              "      <th></th>\n",
              "      <th>var1(t-3)</th>\n",
              "      <th>var1(t-2)</th>\n",
              "      <th>var1(t-1)</th>\n",
              "      <th>var1(t)</th>\n",
              "    </tr>\n",
              "    <tr>\n",
              "      <th>fecha</th>\n",
              "      <th></th>\n",
              "      <th></th>\n",
              "      <th></th>\n",
              "      <th></th>\n",
              "    </tr>\n",
              "  </thead>\n",
              "  <tbody>\n",
              "    <tr>\n",
              "      <th>2020-03-28</th>\n",
              "      <td>62.0</td>\n",
              "      <td>10.0</td>\n",
              "      <td>48.0</td>\n",
              "      <td>69</td>\n",
              "    </tr>\n",
              "    <tr>\n",
              "      <th>2020-03-29</th>\n",
              "      <td>10.0</td>\n",
              "      <td>48.0</td>\n",
              "      <td>69.0</td>\n",
              "      <td>94</td>\n",
              "    </tr>\n",
              "    <tr>\n",
              "      <th>2020-03-30</th>\n",
              "      <td>48.0</td>\n",
              "      <td>69.0</td>\n",
              "      <td>94.0</td>\n",
              "      <td>96</td>\n",
              "    </tr>\n",
              "  </tbody>\n",
              "</table>\n",
              "</div>"
            ],
            "text/plain": [
              "            var1(t-3)  var1(t-2)  var1(t-1)  var1(t)\n",
              "fecha                                               \n",
              "2020-03-28       62.0       10.0       48.0       69\n",
              "2020-03-29       10.0       48.0       69.0       94\n",
              "2020-03-30       48.0       69.0       94.0       96"
            ]
          },
          "metadata": {
            "tags": []
          },
          "execution_count": 13
        }
      ]
    },
    {
      "cell_type": "markdown",
      "metadata": {
        "id": "ckMkpO6JoO-D",
        "colab_type": "text"
      },
      "source": [
        "**Normalization data**"
      ]
    },
    {
      "cell_type": "code",
      "metadata": {
        "id": "0-PU9xhvoKgK",
        "colab_type": "code",
        "outputId": "a66a27c7-4e95-4914-f00e-91717e24b9c3",
        "colab": {
          "base_uri": "https://localhost:8080/",
          "height": 372
        }
      },
      "source": [
        "scaler = MinMaxScaler(feature_range=(0, 1))\n",
        "data_norm = scaler.fit_transform(data_samples)\n",
        "data_norm"
      ],
      "execution_count": 14,
      "outputs": [
        {
          "output_type": "execute_result",
          "data": {
            "text/plain": [
              "array([[0.        , 0.        , 0.02727273, 0.00909091],\n",
              "       [0.00892857, 0.03603604, 0.00909091, 0.        ],\n",
              "       [0.04464286, 0.01801802, 0.        , 0.04545455],\n",
              "       [0.02678571, 0.00900901, 0.04545455, 0.16363636],\n",
              "       [0.01785714, 0.05405405, 0.16363636, 0.08181818],\n",
              "       [0.0625    , 0.17117117, 0.08181818, 0.13636364],\n",
              "       [0.17857143, 0.09009009, 0.13636364, 0.21818182],\n",
              "       [0.09821429, 0.14414414, 0.21818182, 0.20909091],\n",
              "       [0.15178571, 0.22522523, 0.20909091, 0.4       ],\n",
              "       [0.23214286, 0.21621622, 0.4       , 0.29090909],\n",
              "       [0.22321429, 0.40540541, 0.29090909, 0.24545455],\n",
              "       [0.41071429, 0.2972973 , 0.24545455, 0.57272727],\n",
              "       [0.30357143, 0.25225225, 0.57272727, 1.        ],\n",
              "       [0.25892857, 0.57657658, 1.        , 0.53636364],\n",
              "       [0.58035714, 1.        , 0.53636364, 0.06363636],\n",
              "       [1.        , 0.54054054, 0.06363636, 0.40909091],\n",
              "       [0.54464286, 0.07207207, 0.40909091, 0.6       ],\n",
              "       [0.08035714, 0.41441441, 0.6       , 0.82727273],\n",
              "       [0.41964286, 0.6036036 , 0.82727273, 0.84545455]])"
            ]
          },
          "metadata": {
            "tags": []
          },
          "execution_count": 14
        }
      ]
    },
    {
      "cell_type": "code",
      "metadata": {
        "id": "kBfE5XUBm00_",
        "colab_type": "code",
        "colab": {}
      },
      "source": [
        "#Now split the data 90%-10%\n",
        "train_data_norm = data_norm[:int(round(len(data_norm)*0.9,0)), :]\n",
        "test_data_norm = data_norm[int(round(len(data_norm)*0.9,0)):len(data_norm), :]"
      ],
      "execution_count": 0,
      "outputs": []
    },
    {
      "cell_type": "code",
      "metadata": {
        "id": "6mmf48qjpYr2",
        "colab_type": "code",
        "colab": {}
      },
      "source": [
        "#split the train and test set into X,Y\n",
        "train_x, train_y = train_data_norm[:, :-1], train_data_norm[:, -1]\n",
        "test_x, test_y = test_data_norm[:, :-1], test_data_norm[:, -1]\n"
      ],
      "execution_count": 0,
      "outputs": []
    },
    {
      "cell_type": "code",
      "metadata": {
        "id": "2Az64AQfzBTm",
        "colab_type": "code",
        "outputId": "866e5cbf-5fb9-4b66-95a1-d5a1d16c842f",
        "colab": {
          "base_uri": "https://localhost:8080/",
          "height": 36
        }
      },
      "source": [
        "#reshape input to be 3D [samples, timesteps, features]\n",
        "train_x = train_x.reshape((train_x.shape[0], 1, train_x.shape[1]))\n",
        "test_x = test_x.reshape((test_x.shape[0], 1, test_x.shape[1]))\n",
        "print(train_x.shape, train_y.shape, test_x.shape, test_y.shape)"
      ],
      "execution_count": 17,
      "outputs": [
        {
          "output_type": "stream",
          "text": [
            "(17, 1, 3) (17,) (2, 1, 3) (2,)\n"
          ],
          "name": "stdout"
        }
      ]
    },
    {
      "cell_type": "markdown",
      "metadata": {
        "id": "FgSAu1WN1QxQ",
        "colab_type": "text"
      },
      "source": [
        "**Modeling**\n"
      ]
    },
    {
      "cell_type": "code",
      "metadata": {
        "id": "GgT1MxIP1SyS",
        "colab_type": "code",
        "outputId": "551b5244-5a92-4090-ec3a-7d41e924c614",
        "colab": {
          "base_uri": "https://localhost:8080/",
          "height": 1000
        }
      },
      "source": [
        "# design network\n",
        "model = Sequential()\n",
        "model.add(LSTM(100, activation='relu',input_shape=(train_x.shape[1], train_x.shape[2])))\n",
        "model.add(Dense(1))\n",
        "model.compile(loss='mean_squared_error', optimizer='adam')\n",
        "# fit network\n",
        "history = model.fit(train_x, train_y, epochs=60, validation_data=(test_x, test_y), shuffle=False)\n",
        "# plot history\n",
        "plt.plot(history.history['loss'])\n",
        "plt.plot(history.history['val_loss'])\n",
        "plt.title('model train vs validation loss')\n",
        "plt.ylabel('loss')\n",
        "plt.xlabel('epoch')\n",
        "plt.legend(['train', 'validation'], loc='upper right')\n",
        "plt.show()"
      ],
      "execution_count": 18,
      "outputs": [
        {
          "output_type": "stream",
          "text": [
            "WARNING:tensorflow:From /usr/local/lib/python3.6/dist-packages/keras/backend/tensorflow_backend.py:66: The name tf.get_default_graph is deprecated. Please use tf.compat.v1.get_default_graph instead.\n",
            "\n",
            "WARNING:tensorflow:From /usr/local/lib/python3.6/dist-packages/keras/backend/tensorflow_backend.py:541: The name tf.placeholder is deprecated. Please use tf.compat.v1.placeholder instead.\n",
            "\n",
            "WARNING:tensorflow:From /usr/local/lib/python3.6/dist-packages/keras/backend/tensorflow_backend.py:4432: The name tf.random_uniform is deprecated. Please use tf.random.uniform instead.\n",
            "\n",
            "WARNING:tensorflow:From /usr/local/lib/python3.6/dist-packages/keras/optimizers.py:793: The name tf.train.Optimizer is deprecated. Please use tf.compat.v1.train.Optimizer instead.\n",
            "\n",
            "WARNING:tensorflow:From /usr/local/lib/python3.6/dist-packages/tensorflow/python/ops/math_grad.py:1250: add_dispatch_support.<locals>.wrapper (from tensorflow.python.ops.array_ops) is deprecated and will be removed in a future version.\n",
            "Instructions for updating:\n",
            "Use tf.where in 2.0, which has the same broadcast rule as np.where\n",
            "WARNING:tensorflow:From /usr/local/lib/python3.6/dist-packages/keras/backend/tensorflow_backend.py:1033: The name tf.assign_add is deprecated. Please use tf.compat.v1.assign_add instead.\n",
            "\n",
            "WARNING:tensorflow:From /usr/local/lib/python3.6/dist-packages/keras/backend/tensorflow_backend.py:1020: The name tf.assign is deprecated. Please use tf.compat.v1.assign instead.\n",
            "\n",
            "Train on 17 samples, validate on 2 samples\n",
            "Epoch 1/60\n",
            "17/17 [==============================] - 1s 35ms/step - loss: 0.1625 - val_loss: 0.7284\n",
            "Epoch 2/60\n",
            "17/17 [==============================] - 0s 407us/step - loss: 0.1602 - val_loss: 0.7200\n",
            "Epoch 3/60\n",
            "17/17 [==============================] - 0s 399us/step - loss: 0.1575 - val_loss: 0.7110\n",
            "Epoch 4/60\n",
            "17/17 [==============================] - 0s 370us/step - loss: 0.1548 - val_loss: 0.7019\n",
            "Epoch 5/60\n",
            "17/17 [==============================] - 0s 356us/step - loss: 0.1519 - val_loss: 0.6925\n",
            "Epoch 6/60\n",
            "17/17 [==============================] - 0s 220us/step - loss: 0.1491 - val_loss: 0.6830\n",
            "Epoch 7/60\n",
            "17/17 [==============================] - 0s 338us/step - loss: 0.1463 - val_loss: 0.6733\n",
            "Epoch 8/60\n",
            "17/17 [==============================] - 0s 334us/step - loss: 0.1434 - val_loss: 0.6637\n",
            "Epoch 9/60\n",
            "17/17 [==============================] - 0s 304us/step - loss: 0.1406 - val_loss: 0.6540\n",
            "Epoch 10/60\n",
            "17/17 [==============================] - 0s 309us/step - loss: 0.1378 - val_loss: 0.6442\n",
            "Epoch 11/60\n",
            "17/17 [==============================] - 0s 290us/step - loss: 0.1351 - val_loss: 0.6343\n",
            "Epoch 12/60\n",
            "17/17 [==============================] - 0s 307us/step - loss: 0.1323 - val_loss: 0.6243\n",
            "Epoch 13/60\n",
            "17/17 [==============================] - 0s 297us/step - loss: 0.1295 - val_loss: 0.6144\n",
            "Epoch 14/60\n",
            "17/17 [==============================] - 0s 313us/step - loss: 0.1268 - val_loss: 0.6047\n",
            "Epoch 15/60\n",
            "17/17 [==============================] - 0s 346us/step - loss: 0.1241 - val_loss: 0.5950\n",
            "Epoch 16/60\n",
            "17/17 [==============================] - 0s 232us/step - loss: 0.1215 - val_loss: 0.5854\n",
            "Epoch 17/60\n",
            "17/17 [==============================] - 0s 295us/step - loss: 0.1188 - val_loss: 0.5759\n",
            "Epoch 18/60\n",
            "17/17 [==============================] - 0s 302us/step - loss: 0.1162 - val_loss: 0.5663\n",
            "Epoch 19/60\n",
            "17/17 [==============================] - 0s 438us/step - loss: 0.1136 - val_loss: 0.5567\n",
            "Epoch 20/60\n",
            "17/17 [==============================] - 0s 262us/step - loss: 0.1111 - val_loss: 0.5469\n",
            "Epoch 21/60\n",
            "17/17 [==============================] - 0s 356us/step - loss: 0.1085 - val_loss: 0.5371\n",
            "Epoch 22/60\n",
            "17/17 [==============================] - 0s 327us/step - loss: 0.1061 - val_loss: 0.5273\n",
            "Epoch 23/60\n",
            "17/17 [==============================] - 0s 311us/step - loss: 0.1036 - val_loss: 0.5176\n",
            "Epoch 24/60\n",
            "17/17 [==============================] - 0s 316us/step - loss: 0.1012 - val_loss: 0.5079\n",
            "Epoch 25/60\n",
            "17/17 [==============================] - 0s 319us/step - loss: 0.0988 - val_loss: 0.4982\n",
            "Epoch 26/60\n",
            "17/17 [==============================] - 0s 315us/step - loss: 0.0964 - val_loss: 0.4885\n",
            "Epoch 27/60\n",
            "17/17 [==============================] - 0s 323us/step - loss: 0.0941 - val_loss: 0.4787\n",
            "Epoch 28/60\n",
            "17/17 [==============================] - 0s 336us/step - loss: 0.0918 - val_loss: 0.4690\n",
            "Epoch 29/60\n",
            "17/17 [==============================] - 0s 341us/step - loss: 0.0896 - val_loss: 0.4593\n",
            "Epoch 30/60\n",
            "17/17 [==============================] - 0s 293us/step - loss: 0.0875 - val_loss: 0.4498\n",
            "Epoch 31/60\n",
            "17/17 [==============================] - 0s 384us/step - loss: 0.0854 - val_loss: 0.4403\n",
            "Epoch 32/60\n",
            "17/17 [==============================] - 0s 533us/step - loss: 0.0833 - val_loss: 0.4307\n",
            "Epoch 33/60\n",
            "17/17 [==============================] - 0s 477us/step - loss: 0.0813 - val_loss: 0.4212\n",
            "Epoch 34/60\n",
            "17/17 [==============================] - 0s 501us/step - loss: 0.0794 - val_loss: 0.4118\n",
            "Epoch 35/60\n",
            "17/17 [==============================] - 0s 474us/step - loss: 0.0775 - val_loss: 0.4025\n",
            "Epoch 36/60\n",
            "17/17 [==============================] - 0s 331us/step - loss: 0.0757 - val_loss: 0.3932\n",
            "Epoch 37/60\n",
            "17/17 [==============================] - 0s 332us/step - loss: 0.0740 - val_loss: 0.3841\n",
            "Epoch 38/60\n",
            "17/17 [==============================] - 0s 358us/step - loss: 0.0723 - val_loss: 0.3751\n",
            "Epoch 39/60\n",
            "17/17 [==============================] - 0s 298us/step - loss: 0.0707 - val_loss: 0.3662\n",
            "Epoch 40/60\n",
            "17/17 [==============================] - 0s 279us/step - loss: 0.0692 - val_loss: 0.3574\n",
            "Epoch 41/60\n",
            "17/17 [==============================] - 0s 249us/step - loss: 0.0677 - val_loss: 0.3487\n",
            "Epoch 42/60\n",
            "17/17 [==============================] - 0s 338us/step - loss: 0.0662 - val_loss: 0.3401\n",
            "Epoch 43/60\n",
            "17/17 [==============================] - 0s 289us/step - loss: 0.0649 - val_loss: 0.3317\n",
            "Epoch 44/60\n",
            "17/17 [==============================] - 0s 333us/step - loss: 0.0636 - val_loss: 0.3234\n",
            "Epoch 45/60\n",
            "17/17 [==============================] - 0s 290us/step - loss: 0.0623 - val_loss: 0.3153\n",
            "Epoch 46/60\n",
            "17/17 [==============================] - 0s 348us/step - loss: 0.0611 - val_loss: 0.3074\n",
            "Epoch 47/60\n",
            "17/17 [==============================] - 0s 302us/step - loss: 0.0600 - val_loss: 0.2997\n",
            "Epoch 48/60\n",
            "17/17 [==============================] - 0s 366us/step - loss: 0.0590 - val_loss: 0.2921\n",
            "Epoch 49/60\n",
            "17/17 [==============================] - 0s 305us/step - loss: 0.0580 - val_loss: 0.2847\n",
            "Epoch 50/60\n",
            "17/17 [==============================] - 0s 299us/step - loss: 0.0571 - val_loss: 0.2776\n",
            "Epoch 51/60\n",
            "17/17 [==============================] - 0s 253us/step - loss: 0.0563 - val_loss: 0.2706\n",
            "Epoch 52/60\n",
            "17/17 [==============================] - 0s 260us/step - loss: 0.0555 - val_loss: 0.2638\n",
            "Epoch 53/60\n",
            "17/17 [==============================] - 0s 266us/step - loss: 0.0548 - val_loss: 0.2573\n",
            "Epoch 54/60\n",
            "17/17 [==============================] - 0s 453us/step - loss: 0.0541 - val_loss: 0.2510\n",
            "Epoch 55/60\n",
            "17/17 [==============================] - 0s 478us/step - loss: 0.0535 - val_loss: 0.2449\n",
            "Epoch 56/60\n",
            "17/17 [==============================] - 0s 450us/step - loss: 0.0529 - val_loss: 0.2390\n",
            "Epoch 57/60\n",
            "17/17 [==============================] - 0s 419us/step - loss: 0.0524 - val_loss: 0.2333\n",
            "Epoch 58/60\n",
            "17/17 [==============================] - 0s 415us/step - loss: 0.0519 - val_loss: 0.2279\n",
            "Epoch 59/60\n",
            "17/17 [==============================] - 0s 446us/step - loss: 0.0515 - val_loss: 0.2228\n",
            "Epoch 60/60\n",
            "17/17 [==============================] - 0s 453us/step - loss: 0.0511 - val_loss: 0.2179\n"
          ],
          "name": "stdout"
        },
        {
          "output_type": "display_data",
          "data": {
            "image/png": "[encoded data removed]",
            "text/plain": [
              "<Figure size 432x288 with 1 Axes>"
            ]
          },
          "metadata": {
            "tags": []
          }
        }
      ]
    },
    {
      "cell_type": "markdown",
      "metadata": {
        "id": "R-YCYN3JgIZo",
        "colab_type": "text"
      },
      "source": [
        "We have increased the number of epoch and the total number of nodes and the underftting remains.\n",
        "\n",
        "Therefore, the model is underfit because performance on the training set is better than the validation set and performance has leveled off. So, we need more samples to fit this model."
      ]
    },
    {
      "cell_type": "code",
      "metadata": {
        "id": "e657Czjb5C5r",
        "colab_type": "code",
        "outputId": "f8b89662-98a5-4bc4-f084-431f14834727",
        "colab": {
          "base_uri": "https://localhost:8080/",
          "height": 36
        }
      },
      "source": [
        "# make a prediction\n",
        "yhat = model.predict(test_x)\n",
        "test_x_r = test_x.reshape((test_x.shape[0],3))\n",
        "\n",
        "# invert scaling for forecast\n",
        "inv_yhat = np.concatenate((yhat, test_x_r[:, :]), axis=1)\n",
        "inv_yhat = scaler.inverse_transform(inv_yhat)\n",
        "inv_yhat = inv_yhat[:,3]\n",
        "inv_yhat\n"
      ],
      "execution_count": 19,
      "outputs": [
        {
          "output_type": "execute_result",
          "data": {
            "text/plain": [
              "array([69., 94.])"
            ]
          },
          "metadata": {
            "tags": []
          },
          "execution_count": 19
        }
      ]
    },
    {
      "cell_type": "code",
      "metadata": {
        "id": "iwIzM6nO5imw",
        "colab_type": "code",
        "outputId": "3800d621-0dce-4980-af16-edb006a01425",
        "colab": {
          "base_uri": "https://localhost:8080/",
          "height": 36
        }
      },
      "source": [
        "# invert scaling for actual\n",
        "test_y_r = test_y.reshape((len(test_y), 1))\n",
        "inv_y = np.concatenate((test_y_r, test_x_r[:,:]), axis=1)\n",
        "inv_y = scaler.inverse_transform(inv_y)\n",
        "inv_y = inv_y[:,3]\n",
        "inv_y"
      ],
      "execution_count": 20,
      "outputs": [
        {
          "output_type": "execute_result",
          "data": {
            "text/plain": [
              "array([69., 94.])"
            ]
          },
          "metadata": {
            "tags": []
          },
          "execution_count": 20
        }
      ]
    },
    {
      "cell_type": "code",
      "metadata": {
        "id": "B0NJ6EWUIoD0",
        "colab_type": "code",
        "outputId": "d72c14d9-6abe-4198-ea19-6690c5f2e910",
        "colab": {
          "base_uri": "https://localhost:8080/",
          "height": 36
        }
      },
      "source": [
        "# calculate RMSE\n",
        "rmse = np.sqrt(mean_squared_error(inv_y, inv_yhat))\n",
        "print('Test RMSE: %.3f' % rmse)"
      ],
      "execution_count": 21,
      "outputs": [
        {
          "output_type": "stream",
          "text": [
            "Test RMSE: 0.000\n"
          ],
          "name": "stdout"
        }
      ]
    },
    {
      "cell_type": "code",
      "metadata": {
        "id": "IhPOdtIWJhHZ",
        "colab_type": "code",
        "outputId": "0284b36f-7f17-477c-a2f2-5d356be9666b",
        "colab": {
          "base_uri": "https://localhost:8080/",
          "height": 267
        }
      },
      "source": [
        "#plotting forecast vs real\n",
        "aa=[x for x in range(2)]\n",
        "plt.plot(aa, inv_y[:2], marker='.', label=\"actual\")\n",
        "plt.plot(aa, inv_yhat[:2], 'r', label=\"prediction\")\n",
        "plt.ylabel('Total casos', size=15)\n",
        "plt.xlabel('', size=15)\n",
        "plt.legend(fontsize=15)\n",
        "plt.show()"
      ],
      "execution_count": 22,
      "outputs": [
        {
          "output_type": "display_data",
          "data": {
            "image/png": "[encoded data removed]",
            "text/plain": [
              "<Figure size 432x288 with 1 Axes>"
            ]
          },
          "metadata": {
            "tags": []
          }
        }
      ]
    },
    {
      "cell_type": "code",
      "metadata": {
        "id": "ERCCoK3lFuKB",
        "colab_type": "code",
        "colab": {}
      },
      "source": [
        "from datetime import datetime\n",
        "from datetime import timedelta\n",
        "last=pd.DataFrame(data.index)\n",
        "last=last.tail(1)\n",
        "NextDay_Date = last + timedelta(days=1)\n",
        "print(NextDay_Date.to_string(index=False))"
      ],
      "execution_count": 0,
      "outputs": []
    },
    {
      "cell_type": "code",
      "metadata": {
        "id": "ruxdN-rbvwlM",
        "colab_type": "code",
        "outputId": "3ae793ef-e359-4d3d-b928-d049bbbc6498",
        "colab": {
          "base_uri": "https://localhost:8080/",
          "height": 54
        }
      },
      "source": [
        "#Prediction\n",
        "x_input = np.array(data.tail(3))\n",
        "x_input_norm = scaler.fit_transform(x_input)\n",
        "x_input_norm = x_input_norm.reshape((1, 1, 3))\n",
        "prediction_norm= model.predict(x_input_norm, verbose=0)\n",
        "prediction = int(scaler.inverse_transform(prediction_norm))\n",
        "print(\"Predicción del total de casos contagiados:\",prediction,\"para la\",NextDay_Date.to_string(index=False))"
      ],
      "execution_count": 32,
      "outputs": [
        {
          "output_type": "stream",
          "text": [
            "Predicción del total de casos contagiados: 97 para la      fecha\n",
            "2020-04-02\n"
          ],
          "name": "stdout"
        }
      ]
    }
  ]
}